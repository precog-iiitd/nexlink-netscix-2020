{
 "cells": [
  {
   "cell_type": "code",
   "execution_count": null,
   "metadata": {},
   "outputs": [],
   "source": [
    "import sys\n",
    "sys.path.insert(0, '..')"
   ]
  },
  {
   "cell_type": "code",
   "execution_count": null,
   "metadata": {},
   "outputs": [],
   "source": [
    "from config.path_config import GraphPaths, PlotPaths, NodePairPaths\n",
    "from config.constants import Constants\n",
    "\n",
    "import csv\n",
    "import random\n",
    "import os\n",
    "random.seed(42)"
   ]
  },
  {
   "cell_type": "markdown",
   "metadata": {},
   "source": [
    "### Facebook sampled subgraphs"
   ]
  },
  {
   "cell_type": "code",
   "execution_count": null,
   "metadata": {},
   "outputs": [],
   "source": [
    "import networkx as nx"
   ]
  },
  {
   "cell_type": "code",
   "execution_count": null,
   "metadata": {},
   "outputs": [],
   "source": [
    "def common_neighborhood(graph_1, graph_2, pair):\n",
    "    \"\"\"\n",
    "    :param graph1: networkx graph 1\n",
    "    :param graph2: networkx graph 2\n",
    "    :param pair: expected a tuple for pair of nodes\n",
    "    \"\"\"\n",
    "    l1 = list(nx.all_neighbors(graph_1, pair[0]))\n",
    "    l2 = list(nx.all_neighbors(graph_2, pair[1]))\n",
    "    union = list(set().union(l1, l2))\n",
    "    intersection = list(set(l1).intersection(l2))\n",
    "    cn = len(intersection) / len(union)\n",
    "    return cn"
   ]
  },
  {
   "cell_type": "code",
   "execution_count": null,
   "metadata": {},
   "outputs": [],
   "source": [
    "def get_common_neighborhood_list(graph_1, graph_2, list_of_pairs):\n",
    "    list_of_cn = []\n",
    "    for pair in list_of_pairs:\n",
    "        list_of_cn.append(common_neighborhood(graph_1, graph_2, pair))\n",
    "    return list_of_cn"
   ]
  },
  {
   "cell_type": "markdown",
   "metadata": {},
   "source": [
    "### Generate seed, random and biased pairs"
   ]
  },
  {
   "cell_type": "code",
   "execution_count": null,
   "metadata": {},
   "outputs": [],
   "source": [
    "alpha_s = 0.5\n",
    "alpha_c = 0.5\n",
    "u_suffix = '-u'\n",
    "v_suffix = '-v'"
   ]
  },
  {
   "cell_type": "code",
   "execution_count": null,
   "metadata": {},
   "outputs": [],
   "source": [
    "fbG1 = nx.read_edgelist(GraphPaths.fb_subgraph.format('1', alpha_s, alpha_c), data=(('weight', float),))\n",
    "fbG2 = nx.read_edgelist(GraphPaths.fb_subgraph.format('2', alpha_s, alpha_c), data=(('weight', float),))\n",
    "\n",
    "print('nodes: ', fbG1.number_of_nodes(), ', edges: ', fbG1.number_of_edges())\n",
    "print('nodes: ', fbG2.number_of_nodes(), ', edges: ', fbG2.number_of_edges())"
   ]
  },
  {
   "cell_type": "code",
   "execution_count": null,
   "metadata": {},
   "outputs": [],
   "source": [
    "remove_node_suffix = lambda label : label[:-2]"
   ]
  },
  {
   "cell_type": "code",
   "execution_count": null,
   "metadata": {},
   "outputs": [],
   "source": [
    "fbG1 = nx.relabel_nodes(fbG1, remove_node_suffix)\n",
    "fbG2 = nx.relabel_nodes(fbG2, remove_node_suffix)"
   ]
  },
  {
   "cell_type": "markdown",
   "metadata": {},
   "source": [
    "### Generating node pairs"
   ]
  },
  {
   "cell_type": "code",
   "execution_count": null,
   "metadata": {},
   "outputs": [],
   "source": [
    "def random_walk(graph, path_length, alpha=0, rand=random.Random(), start=None, is_start_node_first_node=True):\n",
    "    if start:\n",
    "        path = [start]\n",
    "    else:\n",
    "      # Sampling is uniform w.r.t V, and not w.r.t E\n",
    "      path = [rand.choice(list(graph.nodes()))]\n",
    "    while len(path) < path_length:\n",
    "        cur = path[-1]\n",
    "        if len(graph[cur]) > 0:\n",
    "            if rand.random() >= alpha:\n",
    "                path.append(rand.choice(list(graph[cur])))\n",
    "            else:\n",
    "                path.append(path[0])\n",
    "        else:\n",
    "            break\n",
    "    if is_start_node_first_node:\n",
    "        return [tuple((start, node)) for node in path]\n",
    "    else:\n",
    "        return [tuple((node, start)) for node in path]"
   ]
  },
  {
   "cell_type": "code",
   "execution_count": null,
   "metadata": {},
   "outputs": [],
   "source": [
    "def get_intersecting_nodes(graph1, graph2):\n",
    "    nodes_graph1 = list(graph1.nodes())\n",
    "    nodes_graph2 = list(graph2.nodes())\n",
    "    intersection_nodes = list(set(nodes_graph1).intersection(nodes_graph2))\n",
    "    print(len(intersection_nodes))\n",
    "    return intersection_nodes"
   ]
  },
  {
   "cell_type": "code",
   "execution_count": null,
   "metadata": {},
   "outputs": [],
   "source": [
    "def write_sampled_nodepairs(graph1, graph2, random_walk_path_len, path_seed, path_nonseed, path_combined, intersection_downsize_factor=0):\n",
    "    \n",
    "    with open(path_seed, 'w') as f_seed, open(path_nonseed, 'w') as f_nonseed, open(path_combined, 'w') as f_combined:\n",
    "        writer_seed = csv.writer(f_seed, delimiter=' ')\n",
    "        writer_nonseed = csv.writer(f_nonseed, delimiter=' ')\n",
    "        writer_combined = csv.writer(f_combined, delimiter=' ')\n",
    "        total_num_nodepairs = 0\n",
    "        \n",
    "        intersection_nodes = get_intersecting_nodes(graph1, graph2)\n",
    "        if intersection_downsize_factor > 0:\n",
    "            sampled_intersection_nodes_len = int(len(intersection_nodes)/intersection_downsize_factor)\n",
    "            intersection_nodes = random.sample(intersection_nodes, sampled_intersection_nodes_len)\n",
    "            print('Sampled intersection nodes size: ', len(intersection_nodes))\n",
    "        for node in intersection_nodes:\n",
    "            assert(node in graph1 and node in graph2)\n",
    "            \n",
    "            random_walk_pairs = random_walk(graph2, random_walk_path_len, start=node)\n",
    "            random_walk_pairs.extend(random_walk(graph1, random_walk_path_len, start=node, is_start_node_first_node=False))\n",
    "\n",
    "            for node1, node2 in random_walk_pairs:\n",
    "                # Duplicates will need be handled when reading; networkx handles duplicate edges\n",
    "                assert(node1 in graph1 and node2 in graph2)\n",
    "                cn = common_neighborhood(graph1, graph2, tuple((node1, node2)))\n",
    "                if cn > 0:\n",
    "                    if node1 == node2:\n",
    "                        writer_seed.writerow([node1+u_suffix, node2+v_suffix, cn])\n",
    "                    else:\n",
    "                        writer_nonseed.writerow([node1+u_suffix, node2+v_suffix, cn])\n",
    "                    writer_combined.writerow([node1+u_suffix, node2+v_suffix, cn])\n",
    "                    total_num_nodepairs += 1\n",
    "    print(f'Wrote {total_num_nodepairs} node pairs combined')"
   ]
  },
  {
   "cell_type": "code",
   "execution_count": null,
   "metadata": {},
   "outputs": [],
   "source": [
    "# for experiments\n",
    "DEFAULT_WALK_LENGTH = 20\n",
    "out_dir = os.path.dirname(NodePairPaths.fb_nodepairs.format(alpha_s, alpha_c, type='seed'))\n",
    "if not os.path.exists(out_dir):\n",
    "    os.makedirs(out_dir)\n",
    "write_sampled_nodepairs(fbG1, fbG2, DEFAULT_WALK_LENGTH, \n",
    "                        NodePairPaths.fb_nodepairs.format(alpha_s, alpha_c, type='seed'), \n",
    "                        NodePairPaths.fb_nodepairs.format(alpha_s, alpha_c, type='nonseed'), \n",
    "                        NodePairPaths.fb_nodepairs.format(alpha_s, alpha_c, type='combined'))"
   ]
  }
 ],
 "metadata": {
  "kernelspec": {
   "display_name": "Python 3",
   "language": "python",
   "name": "python3"
  },
  "language_info": {
   "codemirror_mode": {
    "name": "ipython",
    "version": 3
   },
   "file_extension": ".py",
   "mimetype": "text/x-python",
   "name": "python",
   "nbconvert_exporter": "python",
   "pygments_lexer": "ipython3",
   "version": "3.6.9"
  }
 },
 "nbformat": 4,
 "nbformat_minor": 4
}
