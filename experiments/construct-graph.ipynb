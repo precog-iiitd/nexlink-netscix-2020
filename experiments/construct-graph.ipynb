{
 "cells": [
  {
   "cell_type": "code",
   "execution_count": null,
   "metadata": {},
   "outputs": [],
   "source": [
    "# import sys\n",
    "# !conda install -c conda-forge --yes --prefix {sys.prefix} matplotlib"
   ]
  },
  {
   "cell_type": "markdown",
   "metadata": {},
   "source": [
    "## Let the games begin"
   ]
  },
  {
   "cell_type": "code",
   "execution_count": null,
   "metadata": {},
   "outputs": [],
   "source": [
    "import sys\n",
    "sys.path.insert(0, '..')"
   ]
  },
  {
   "cell_type": "code",
   "execution_count": null,
   "metadata": {},
   "outputs": [],
   "source": [
    "from config.path_config import GraphPaths"
   ]
  },
  {
   "cell_type": "markdown",
   "metadata": {},
   "source": [
    "### Facebook Dataset"
   ]
  },
  {
   "cell_type": "code",
   "execution_count": null,
   "metadata": {},
   "outputs": [],
   "source": [
    "import networkx as nx\n",
    "import pandas as pd\n",
    "import os"
   ]
  },
  {
   "cell_type": "code",
   "execution_count": null,
   "metadata": {},
   "outputs": [],
   "source": [
    "df = pd.read_csv(GraphPaths.fb_links, sep='\\t', header=None, usecols=[0, 1])"
   ]
  },
  {
   "cell_type": "code",
   "execution_count": null,
   "metadata": {},
   "outputs": [],
   "source": [
    "df"
   ]
  },
  {
   "cell_type": "code",
   "execution_count": null,
   "metadata": {},
   "outputs": [],
   "source": [
    "fbG = nx.from_pandas_edgelist(df, source=0, target=1)"
   ]
  },
  {
   "cell_type": "code",
   "execution_count": null,
   "metadata": {},
   "outputs": [],
   "source": [
    "print('nodes: ', fbG.number_of_nodes(), ', edges: ', fbG.number_of_edges())"
   ]
  },
  {
   "cell_type": "code",
   "execution_count": null,
   "metadata": {},
   "outputs": [],
   "source": [
    "import random\n",
    "random.seed(42)"
   ]
  },
  {
   "cell_type": "code",
   "execution_count": null,
   "metadata": {},
   "outputs": [],
   "source": [
    "def generate_separate_sampled_graphs(og_graph, alpha_s, alpha_c):\n",
    "    subgraph1 = nx.Graph()\n",
    "    subgraph2 = nx.Graph()\n",
    "        \n",
    "    for edge in list(og_graph.edges()):\n",
    "        p = random.uniform(0, 1)\n",
    "        if p < (1 - (2 * alpha_s) + (alpha_s * alpha_c)):\n",
    "            continue\n",
    "        elif (1 - (2 * alpha_s) + (alpha_s * alpha_c)) < p < (1 - alpha_s):\n",
    "            subgraph1.add_edge(*edge, weight=1)\n",
    "        elif (1 - alpha_s) < p < (1 - (alpha_s * alpha_c)):\n",
    "            subgraph2.add_edge(*edge, weight=1)\n",
    "        else:\n",
    "            subgraph1.add_edge(*edge, weight=1)\n",
    "            subgraph2.add_edge(*edge, weight=1)\n",
    "    return subgraph1, subgraph2"
   ]
  },
  {
   "cell_type": "code",
   "execution_count": null,
   "metadata": {},
   "outputs": [],
   "source": [
    "def filter_nodes_by_degree(og_graph, min_degree):\n",
    "    ctr = 0\n",
    "    filtered_graph = nx.Graph()\n",
    "    for edge in og_graph.edges():\n",
    "        if og_graph.degree(edge[0]) > min_degree and og_graph.degree(edge[1]) > min_degree:\n",
    "            filtered_graph.add_edge(*edge, weight=1)\n",
    "    return filtered_graph"
   ]
  },
  {
   "cell_type": "code",
   "execution_count": null,
   "metadata": {},
   "outputs": [],
   "source": [
    "filtered_fbG = filter_nodes_by_degree(fbG, 5)"
   ]
  },
  {
   "cell_type": "code",
   "execution_count": null,
   "metadata": {},
   "outputs": [],
   "source": [
    "print('nodes: ', filtered_fbG.number_of_nodes(), ', edges: ', filtered_fbG.number_of_edges())"
   ]
  },
  {
   "cell_type": "code",
   "execution_count": null,
   "metadata": {},
   "outputs": [],
   "source": [
    "import matplotlib.pyplot as plt\n",
    "import numpy as np\n",
    "\n",
    "def plot_bar(degree_list, path=None, xscale=None):\n",
    "    index = np.arange(len(degree_list))\n",
    "    plt.bar(index, degree_list)\n",
    "    if xscale:\n",
    "        plt.xscale(xscale)\n",
    "    plt.xlabel('Degree')\n",
    "    plt.ylabel('Count')\n",
    "    plt.title('Degree Distribution')\n",
    "    plt.grid(True)\n",
    "    if path:\n",
    "        plt.savefig(path, dpi=300, bbox_inches='tight')\n",
    "    plt.show()"
   ]
  },
  {
   "cell_type": "code",
   "execution_count": null,
   "metadata": {},
   "outputs": [],
   "source": [
    "deg_hist = nx.degree_histogram(filtered_fbG)"
   ]
  },
  {
   "cell_type": "code",
   "execution_count": null,
   "metadata": {},
   "outputs": [],
   "source": [
    "plot_bar(deg_hist)"
   ]
  },
  {
   "cell_type": "code",
   "execution_count": null,
   "metadata": {},
   "outputs": [],
   "source": [
    "plot_bar(deg_hist, xscale='log')"
   ]
  },
  {
   "cell_type": "code",
   "execution_count": null,
   "metadata": {},
   "outputs": [],
   "source": [
    "plot_bar(deg_hist[:10])"
   ]
  },
  {
   "cell_type": "code",
   "execution_count": null,
   "metadata": {},
   "outputs": [],
   "source": [
    "alpha_s = 0.5\n",
    "alpha_c = 0.5\n",
    "\n",
    "fbG1, fbG2 = generate_separate_sampled_graphs(filtered_fbG, alpha_s, alpha_c)"
   ]
  },
  {
   "cell_type": "code",
   "execution_count": null,
   "metadata": {},
   "outputs": [],
   "source": [
    "print('nodes: ', fbG1.number_of_nodes(), ', edges: ', fbG1.number_of_edges())\n",
    "print('nodes: ', fbG2.number_of_nodes(), ', edges: ', fbG2.number_of_edges())"
   ]
  },
  {
   "cell_type": "code",
   "execution_count": null,
   "metadata": {},
   "outputs": [],
   "source": [
    "u_suffix = lambda label : str(label) + '-u'\n",
    "v_suffix = lambda label : str(label) + '-v'"
   ]
  },
  {
   "cell_type": "code",
   "execution_count": null,
   "metadata": {},
   "outputs": [],
   "source": [
    "relabeled_fbG1 = nx.relabel_nodes(fbG1, u_suffix)\n",
    "relabeled_fbG2 = nx.relabel_nodes(fbG2, v_suffix)"
   ]
  },
  {
   "cell_type": "code",
   "execution_count": null,
   "metadata": {},
   "outputs": [],
   "source": [
    "out_dir = os.path.dirname(GraphPaths.fb_subgraph.format('1', alpha_s, alpha_c))\n",
    "if not os.path.exists(out_dir):\n",
    "    os.makedirs(out_dir)\n",
    "nx.write_edgelist(relabeled_fbG1, GraphPaths.fb_subgraph.format('1', alpha_s, alpha_c), data=['weight'])\n",
    "nx.write_edgelist(relabeled_fbG2, GraphPaths.fb_subgraph.format('2', alpha_s, alpha_c), data=['weight'])"
   ]
  }
 ],
 "metadata": {
  "kernelspec": {
   "display_name": "Python 3",
   "language": "python",
   "name": "python3"
  },
  "language_info": {
   "codemirror_mode": {
    "name": "ipython",
    "version": 3
   },
   "file_extension": ".py",
   "mimetype": "text/x-python",
   "name": "python",
   "nbconvert_exporter": "python",
   "pygments_lexer": "ipython3",
   "version": "3.6.9"
  }
 },
 "nbformat": 4,
 "nbformat_minor": 4
}
