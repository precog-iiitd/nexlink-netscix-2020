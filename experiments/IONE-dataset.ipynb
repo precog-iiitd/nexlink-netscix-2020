{
 "cells": [
  {
   "cell_type": "code",
   "execution_count": null,
   "metadata": {},
   "outputs": [],
   "source": [
    "import sys\n",
    "sys.path.insert(0, '..')"
   ]
  },
  {
   "cell_type": "code",
   "execution_count": null,
   "metadata": {},
   "outputs": [],
   "source": [
    "from config.path_config import GraphPaths, PlotPaths, NodePairPaths\n",
    "from config.constants import Constants\n",
    "\n",
    "import networkx as nx\n",
    "import csv\n",
    "import os\n",
    "import random\n",
    "random.seed(42)"
   ]
  },
  {
   "cell_type": "code",
   "execution_count": null,
   "metadata": {},
   "outputs": [],
   "source": [
    "def get_seed_nodes(path):\n",
    "    with open(path) as f:\n",
    "        content = f.readlines()\n",
    "    content = [x.strip() for x in content] \n",
    "    return content"
   ]
  },
  {
   "cell_type": "code",
   "execution_count": null,
   "metadata": {},
   "outputs": [],
   "source": [
    "tw_real = nx.read_edgelist(GraphPaths.ione_raw_tw)\n",
    "fs_real = nx.read_edgelist(GraphPaths.ione_raw_fs)"
   ]
  },
  {
   "cell_type": "code",
   "execution_count": null,
   "metadata": {},
   "outputs": [],
   "source": [
    "print(tw_real.number_of_nodes(), tw_real.number_of_edges())\n",
    "print(fs_real.number_of_nodes(), fs_real.number_of_edges())"
   ]
  },
  {
   "cell_type": "code",
   "execution_count": null,
   "metadata": {},
   "outputs": [],
   "source": [
    "for (i, j) in tw_real.edges():\n",
    "    tw_real.edges[i,j]['weight'] = 1\n",
    "for (i, j) in fs_real.edges():\n",
    "    fs_real.edges[i,j]['weight'] = 1"
   ]
  },
  {
   "cell_type": "code",
   "execution_count": null,
   "metadata": {},
   "outputs": [],
   "source": [
    "u_suffix = lambda label : str(label) + '-u'\n",
    "v_suffix = lambda label : str(label) + '-v'"
   ]
  },
  {
   "cell_type": "code",
   "execution_count": null,
   "metadata": {},
   "outputs": [],
   "source": [
    "relabeled_tw_real = nx.relabel_nodes(tw_real, u_suffix)\n",
    "relabeled_fs_real = nx.relabel_nodes(fs_real, v_suffix)"
   ]
  },
  {
   "cell_type": "code",
   "execution_count": null,
   "metadata": {},
   "outputs": [],
   "source": [
    "out_dir = os.path.dirname(GraphPaths.ione.format(nw='tw'))\n",
    "if not os.path.exists(out_dir):\n",
    "    os.makedirs(out_dir)\n",
    "nx.write_edgelist(relabeled_tw_real, GraphPaths.ione.format(nw='tw'), data=['weight'])\n",
    "nx.write_edgelist(relabeled_fs_real, GraphPaths.ione.format(nw='fs'), data=['weight'])"
   ]
  },
  {
   "cell_type": "code",
   "execution_count": null,
   "metadata": {},
   "outputs": [],
   "source": [
    "def common_neighborhood(graph_1, graph_2, pair):\n",
    "    \"\"\"\n",
    "    :param graph1: networkx graph 1\n",
    "    :param graph2: networkx graph 2\n",
    "    :param pair: expected a tuple for pair of nodes\n",
    "    \"\"\"\n",
    "    l1 = list(nx.all_neighbors(graph_1, pair[0]))\n",
    "    l2 = list(nx.all_neighbors(graph_2, pair[1]))\n",
    "    union = list(set().union(l1, l2))\n",
    "    intersection = list(set(l1).intersection(l2))\n",
    "    cn = len(intersection) / len(union)\n",
    "    return cn"
   ]
  },
  {
   "cell_type": "code",
   "execution_count": null,
   "metadata": {},
   "outputs": [],
   "source": [
    "def random_walk(graph, path_length, alpha=0, rand=random.Random(), start=None, is_start_node_first_node=True):\n",
    "    if start:\n",
    "        path = [start]\n",
    "    else:\n",
    "      # Sampling is uniform w.r.t V, and not w.r.t E\n",
    "      path = [rand.choice(list(graph.nodes()))]\n",
    "    while len(path) < path_length:\n",
    "        cur = path[-1]\n",
    "        if len(graph[cur]) > 0:\n",
    "#             print(cur, list(graph[cur]))\n",
    "            if rand.random() >= alpha:\n",
    "                path.append(rand.choice(list(graph[cur])))\n",
    "            else:\n",
    "                path.append(path[0])\n",
    "        else:\n",
    "            break\n",
    "    if is_start_node_first_node:\n",
    "        return [tuple((start, node)) for node in path]\n",
    "    else:\n",
    "        return [tuple((node, start)) for node in path]\n",
    "#     return [str(node) for node in path]"
   ]
  },
  {
   "cell_type": "code",
   "execution_count": null,
   "metadata": {},
   "outputs": [],
   "source": [
    "def write_sampled_nodepairs(graph1, graph2, random_walk_path_len, seed_nodes, path_seed, path_nonseed, path_combined):\n",
    "    \n",
    "    with open(path_seed, 'w') as f_seed, open(path_nonseed, 'w') as f_nonseed, open(path_combined, 'w') as f_combined:\n",
    "        writer_seed = csv.writer(f_seed, delimiter=' ')\n",
    "        writer_nonseed = csv.writer(f_nonseed, delimiter=' ')\n",
    "        writer_combined = csv.writer(f_combined, delimiter=' ')\n",
    "        total_num_nodepairs = 0\n",
    "        \n",
    "        for node in seed_nodes:\n",
    "            assert(node in graph1 and node in graph2)\n",
    "            \n",
    "            random_walk_pairs = random_walk(graph2, random_walk_path_len, start=node)\n",
    "            random_walk_pairs.extend(random_walk(graph1, random_walk_path_len, start=node, is_start_node_first_node=False))\n",
    "\n",
    "            for node1, node2 in random_walk_pairs:\n",
    "                # Duplicates will need be handled when reading; networkx handles duplicate edges\n",
    "                assert(node1 in graph1 and node2 in graph2)\n",
    "                cn = common_neighborhood(graph1, graph2, tuple((node1, node2)))\n",
    "                if cn > 0:\n",
    "                    if node1 == node2:\n",
    "                        writer_seed.writerow([node1+u_suffix, node2+v_suffix, cn])\n",
    "                    else:\n",
    "                        writer_nonseed.writerow([node1+u_suffix, node2+v_suffix, cn])\n",
    "                    writer_combined.writerow([node1+u_suffix, node2+v_suffix, cn])\n",
    "                    total_num_nodepairs += 1\n",
    "    print(f'Wrote {total_num_nodepairs} node pairs combined')"
   ]
  },
  {
   "cell_type": "code",
   "execution_count": null,
   "metadata": {},
   "outputs": [],
   "source": [
    "seed_nodes = get_seed_nodes(GraphPaths.ione_raw_gt)\n",
    "print(len(seed_nodes))\n",
    "u_suffix = '-u'\n",
    "v_suffix = '-v'"
   ]
  },
  {
   "cell_type": "code",
   "execution_count": null,
   "metadata": {},
   "outputs": [],
   "source": [
    "DEFAULT_WALK_LENGTH = 20\n",
    "out_dir = os.path.dirname(NodePairPaths.ione_nodepairs.format(type='seed'))\n",
    "if not os.path.exists(out_dir):\n",
    "    os.makedirs(out_dir)\n",
    "write_sampled_nodepairs(tw_real, fs_real, DEFAULT_WALK_LENGTH, seed_nodes, \n",
    "                        NodePairPaths.ione_nodepairs.format(type='seed'),\n",
    "                        NodePairPaths.ione_nodepairs.format(type='nonseed'),\n",
    "                        NodePairPaths.ione_nodepairs.format(type='combined'))"
   ]
  }
 ],
 "metadata": {
  "kernelspec": {
   "display_name": "Python 3",
   "language": "python",
   "name": "python3"
  },
  "language_info": {
   "codemirror_mode": {
    "name": "ipython",
    "version": 3
   },
   "file_extension": ".py",
   "mimetype": "text/x-python",
   "name": "python",
   "nbconvert_exporter": "python",
   "pygments_lexer": "ipython3",
   "version": "3.6.9"
  }
 },
 "nbformat": 4,
 "nbformat_minor": 4
}
